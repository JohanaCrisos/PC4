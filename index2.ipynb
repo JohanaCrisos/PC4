{
  "nbformat": 4,
  "nbformat_minor": 0,
  "metadata": {
    "colab": {
      "provenance": []
    },
    "kernelspec": {
      "name": "python3",
      "display_name": "Python 3"
    },
    "language_info": {
      "name": "python"
    }
  },
  "cells": [
    {
      "cell_type": "code",
      "source": [
        "#Exercise 2\n",
        "#Find the airports for your country here. The data is in a CSV file.\n",
        "#Create projected layer of airports.\n",
        "#Plot all the layers and airports on top.\n",
        "import os\n",
        "import geopandas as gpd\n",
        "import pandas as pd\n",
        "from google.colab import drive\n",
        "from IPython.display import display\n",
        "from IPython import get_ipython\n",
        "drive.mount('/content/drive')\n",
        "shapefile_path = \"/content/drive/My Drive/SHAPEFILE/contdv250kgw/contdv250kgw.shp\"\n",
        "mexico = gpd.read_file(shapefile_path)\n",
        "airports=pd.read_csv(\"/content/drive/My Drive/SHAPEFILE/Aeropuertos/airports.csv\")"
      ],
      "metadata": {
        "id": "7PASNLuBgjqk",
        "colab": {
          "base_uri": "https://localhost:8080/"
        },
        "outputId": "f99e899a-c359-44f7-cfc0-e9e0298df46a"
      },
      "execution_count": 57,
      "outputs": [
        {
          "output_type": "stream",
          "name": "stdout",
          "text": [
            "Drive already mounted at /content/drive; to attempt to forcibly remount, call drive.mount(\"/content/drive\", force_remount=True).\n"
          ]
        }
      ]
    },
    {
      "cell_type": "code",
      "source": [
        "# Eliminar la primera flecha\n",
        "if not airports.empty:\n",
        "  airports.drop(index=0, inplace=True)\n",
        "  airports.reset_index(drop=True, inplace=True)\n",
        "airports.head()\n",
        "print(airports)"
      ],
      "metadata": {
        "colab": {
          "base_uri": "https://localhost:8080/"
        },
        "id": "ubHFuaWmURNM",
        "outputId": "90059730-943c-4e02-a00a-7b2e2c53d3ff"
      },
      "execution_count": 58,
      "outputs": [
        {
          "output_type": "stream",
          "name": "stdout",
          "text": [
            "           id    ident            type                       name  \\\n",
            "0      323361     00AA   small_airport       Aero B Ranch Airport   \n",
            "1        6524     00AK   small_airport               Lowell Field   \n",
            "2        6525     00AL   small_airport               Epps Airpark   \n",
            "3      506791     00AN   small_airport       Katmai Lodge Airport   \n",
            "4      322127     00AS   small_airport             Fulton Airport   \n",
            "...       ...      ...             ...                        ...   \n",
            "83095   32753     ZYYY  medium_airport    Shenyang Dongta Airport   \n",
            "83096   46378  ZZ-0001        heliport            Sealand Helipad   \n",
            "83097  307326  ZZ-0002   small_airport  Glorioso Islands Airstrip   \n",
            "83098  346788  ZZ-0003   small_airport      Fainting Goat Airport   \n",
            "83099  313629     ZZZZ   small_airport     Satsuma Iōjima Airport   \n",
            "\n",
            "       latitude_deg  longitude_deg  elevation_ft continent iso_country  \\\n",
            "0         38.704022    -101.473911        3435.0       NaN          US   \n",
            "1         59.947733    -151.692524         450.0       NaN          US   \n",
            "2         34.864799     -86.770302         820.0       NaN          US   \n",
            "3         59.093287    -156.456699          80.0       NaN          US   \n",
            "4         34.942803     -97.818019        1100.0       NaN          US   \n",
            "...             ...            ...           ...       ...         ...   \n",
            "83095     41.784401     123.496002           NaN        AS          CN   \n",
            "83096     51.894444       1.482500          40.0        EU          GB   \n",
            "83097    -11.584278      47.296389          11.0        AF          TF   \n",
            "83098     32.110587     -97.356312         690.0       NaN          US   \n",
            "83099     30.784722     130.270556         338.0        AS          JP   \n",
            "\n",
            "      iso_region      municipality scheduled_service icao_code iata_code  \\\n",
            "0          US-KS             Leoti                no       NaN       NaN   \n",
            "1          US-AK      Anchor Point                no       NaN       NaN   \n",
            "2          US-AL           Harvest                no       NaN       NaN   \n",
            "3          US-AK       King Salmon                no       NaN       NaN   \n",
            "4          US-OK              Alex                no       NaN       NaN   \n",
            "...          ...               ...               ...       ...       ...   \n",
            "83095      CN-21  Dadong, Shenyang                no       NaN       NaN   \n",
            "83096     GB-ENG           Sealand                no       NaN       NaN   \n",
            "83097     TF-U-A  Grande Glorieuse                no       NaN       NaN   \n",
            "83098      US-TX              Blum                no       NaN       NaN   \n",
            "83099      JP-46           Mishima                no       NaN       NaN   \n",
            "\n",
            "      gps_code local_code                   home_link  \\\n",
            "0         00AA       00AA                         NaN   \n",
            "1         00AK       00AK                         NaN   \n",
            "2         00AL       00AL                         NaN   \n",
            "3         00AN       00AN                         NaN   \n",
            "4         00AS       00AS                         NaN   \n",
            "...        ...        ...                         ...   \n",
            "83095     ZYYY        NaN                         NaN   \n",
            "83096      NaN        NaN  http://www.sealandgov.org/   \n",
            "83097      NaN        NaN                         NaN   \n",
            "83098     87TX       87TX                         NaN   \n",
            "83099     RJX7       RJX7                         NaN   \n",
            "\n",
            "                                          wikipedia_link              keywords  \n",
            "0                                                    NaN                   NaN  \n",
            "1                                                    NaN                   NaN  \n",
            "2                                                    NaN                   NaN  \n",
            "3                                                    NaN                   NaN  \n",
            "4                                                    NaN                   NaN  \n",
            "...                                                  ...                   ...  \n",
            "83095                                                NaN                   NaN  \n",
            "83096  https://en.wikipedia.org/wiki/Principality_of_...  Roughs Tower Helipad  \n",
            "83097                                                NaN                   NaN  \n",
            "83098                                                NaN                   NaN  \n",
            "83099  http://wikimapia.org/6705190/Satsuma-Iwo-jima-...  SATSUMA,IWOJIMA,RJX7  \n",
            "\n",
            "[83100 rows x 19 columns]\n"
          ]
        }
      ]
    },
    {
      "cell_type": "code",
      "source": [
        "if not airports.empty:\n",
        "  print(airports.head(3))\n",
        "  print(airports.tail(3))"
      ],
      "metadata": {
        "colab": {
          "base_uri": "https://localhost:8080/"
        },
        "id": "gMh1tgc0UT06",
        "outputId": "dcccc7da-e094-47f4-d6f3-4addb816b719"
      },
      "execution_count": 59,
      "outputs": [
        {
          "output_type": "stream",
          "name": "stdout",
          "text": [
            "       id ident           type                  name  latitude_deg  \\\n",
            "0  323361  00AA  small_airport  Aero B Ranch Airport     38.704022   \n",
            "1    6524  00AK  small_airport          Lowell Field     59.947733   \n",
            "2    6525  00AL  small_airport          Epps Airpark     34.864799   \n",
            "\n",
            "   longitude_deg  elevation_ft continent iso_country iso_region  municipality  \\\n",
            "0    -101.473911        3435.0       NaN          US      US-KS         Leoti   \n",
            "1    -151.692524         450.0       NaN          US      US-AK  Anchor Point   \n",
            "2     -86.770302         820.0       NaN          US      US-AL       Harvest   \n",
            "\n",
            "  scheduled_service icao_code iata_code gps_code local_code home_link  \\\n",
            "0                no       NaN       NaN     00AA       00AA       NaN   \n",
            "1                no       NaN       NaN     00AK       00AK       NaN   \n",
            "2                no       NaN       NaN     00AL       00AL       NaN   \n",
            "\n",
            "  wikipedia_link keywords  \n",
            "0            NaN      NaN  \n",
            "1            NaN      NaN  \n",
            "2            NaN      NaN  \n",
            "           id    ident           type                       name  \\\n",
            "83097  307326  ZZ-0002  small_airport  Glorioso Islands Airstrip   \n",
            "83098  346788  ZZ-0003  small_airport      Fainting Goat Airport   \n",
            "83099  313629     ZZZZ  small_airport     Satsuma Iōjima Airport   \n",
            "\n",
            "       latitude_deg  longitude_deg  elevation_ft continent iso_country  \\\n",
            "83097    -11.584278      47.296389          11.0        AF          TF   \n",
            "83098     32.110587     -97.356312         690.0       NaN          US   \n",
            "83099     30.784722     130.270556         338.0        AS          JP   \n",
            "\n",
            "      iso_region      municipality scheduled_service icao_code iata_code  \\\n",
            "83097     TF-U-A  Grande Glorieuse                no       NaN       NaN   \n",
            "83098      US-TX              Blum                no       NaN       NaN   \n",
            "83099      JP-46           Mishima                no       NaN       NaN   \n",
            "\n",
            "      gps_code local_code home_link  \\\n",
            "83097      NaN        NaN       NaN   \n",
            "83098     87TX       87TX       NaN   \n",
            "83099     RJX7       RJX7       NaN   \n",
            "\n",
            "                                          wikipedia_link              keywords  \n",
            "83097                                                NaN                   NaN  \n",
            "83098                                                NaN                   NaN  \n",
            "83099  http://wikimapia.org/6705190/Satsuma-Iwo-jima-...  SATSUMA,IWOJIMA,RJX7  \n"
          ]
        }
      ]
    },
    {
      "cell_type": "code",
      "source": [
        "airports.columns"
      ],
      "metadata": {
        "colab": {
          "base_uri": "https://localhost:8080/"
        },
        "id": "h0xUd1dGaaET",
        "outputId": "e51f6a90-97d6-435c-d607-79ba38aecd12"
      },
      "execution_count": 60,
      "outputs": [
        {
          "output_type": "execute_result",
          "data": {
            "text/plain": [
              "Index(['id', 'ident', 'type', 'name', 'latitude_deg', 'longitude_deg',\n",
              "       'elevation_ft', 'continent', 'iso_country', 'iso_region',\n",
              "       'municipality', 'scheduled_service', 'icao_code', 'iata_code',\n",
              "       'gps_code', 'local_code', 'home_link', 'wikipedia_link', 'keywords'],\n",
              "      dtype='object')"
            ]
          },
          "metadata": {},
          "execution_count": 60
        }
      ]
    },
    {
      "cell_type": "code",
      "source": [
        "keep=['type', 'name', 'latitude_deg', 'longitude_deg',\n",
        "       'elevation_ft', 'continent', 'iso_country', 'iso_region',\n",
        "       'municipality']\n",
        "airports=airports.loc[:,keep]\n",
        "\n",
        "airports.info()"
      ],
      "metadata": {
        "colab": {
          "base_uri": "https://localhost:8080/"
        },
        "id": "a8R-g7MKayRe",
        "outputId": "55f03b24-0313-43c9-a3a6-ddb0551bff43"
      },
      "execution_count": 61,
      "outputs": [
        {
          "output_type": "stream",
          "name": "stdout",
          "text": [
            "<class 'pandas.core.frame.DataFrame'>\n",
            "RangeIndex: 83100 entries, 0 to 83099\n",
            "Data columns (total 9 columns):\n",
            " #   Column         Non-Null Count  Dtype  \n",
            "---  ------         --------------  -----  \n",
            " 0   type           83100 non-null  object \n",
            " 1   name           83100 non-null  object \n",
            " 2   latitude_deg   83100 non-null  float64\n",
            " 3   longitude_deg  83100 non-null  float64\n",
            " 4   elevation_ft   68607 non-null  float64\n",
            " 5   continent      43939 non-null  object \n",
            " 6   iso_country    82832 non-null  object \n",
            " 7   iso_region     83100 non-null  object \n",
            " 8   municipality   78409 non-null  object \n",
            "dtypes: float64(3), object(6)\n",
            "memory usage: 5.7+ MB\n"
          ]
        }
      ]
    },
    {
      "cell_type": "code",
      "source": [
        "numeros_airpt=['latitude_deg', 'longitude_deg', 'elevation_ft']\n",
        "airports[numeros_airpt]=airports[numeros_airpt].apply(pd.to_numeric)"
      ],
      "metadata": {
        "id": "DhqGcI4Bcq3V"
      },
      "execution_count": 63,
      "outputs": []
    },
    {
      "cell_type": "code",
      "source": [
        "airports.info()"
      ],
      "metadata": {
        "colab": {
          "base_uri": "https://localhost:8080/"
        },
        "id": "5UZbI8ZldwYw",
        "outputId": "2847aaf2-bac4-4675-d052-a00fc274367a"
      },
      "execution_count": 64,
      "outputs": [
        {
          "output_type": "stream",
          "name": "stdout",
          "text": [
            "<class 'pandas.core.frame.DataFrame'>\n",
            "RangeIndex: 83100 entries, 0 to 83099\n",
            "Data columns (total 9 columns):\n",
            " #   Column         Non-Null Count  Dtype  \n",
            "---  ------         --------------  -----  \n",
            " 0   type           83100 non-null  object \n",
            " 1   name           83100 non-null  object \n",
            " 2   latitude_deg   83100 non-null  float64\n",
            " 3   longitude_deg  83100 non-null  float64\n",
            " 4   elevation_ft   68607 non-null  float64\n",
            " 5   continent      43939 non-null  object \n",
            " 6   iso_country    82832 non-null  object \n",
            " 7   iso_region     83100 non-null  object \n",
            " 8   municipality   78409 non-null  object \n",
            "dtypes: float64(3), object(6)\n",
            "memory usage: 5.7+ MB\n"
          ]
        }
      ]
    },
    {
      "cell_type": "code",
      "source": [
        "cities_mexico_6362=mexico.to_crs(5641)\n",
        "base = cities_mexico_6362.plot(color='white', edgecolor='black')\n",
        "airports.plot.scatter(x='longitude_deg', y='latitude_deg', ax=base)"
      ],
      "metadata": {
        "colab": {
          "base_uri": "https://localhost:8080/",
          "height": 482
        },
        "id": "s5vQTFoxg1mV",
        "outputId": "af54c8aa-53a7-4db2-cdeb-3eb7ad839036"
      },
      "execution_count": 66,
      "outputs": [
        {
          "output_type": "execute_result",
          "data": {
            "text/plain": [
              "<Axes: xlabel='longitude_deg', ylabel='latitude_deg'>"
            ]
          },
          "metadata": {},
          "execution_count": 66
        },
        {
          "output_type": "display_data",
          "data": {
            "text/plain": [
              "<Figure size 640x480 with 1 Axes>"
            ],
            "image/png": "[encoded data removed]"
          },
          "metadata": {}
        }
      ]
    },
    {
      "cell_type": "code",
      "source": [
        "aeropuertos_mex=gpd.GeoDataFrame(airports, geometry=gpd.points_from_xy(airports.longitude_deg, airports.latitude_deg), crs=mexico.crs.to_epsg())\n",
        "\n",
        "base=mexico.to_crs(5641).plot(color='white', edgecolor='black')\n",
        "aeropuertos_mex.to_crs(5641).plot(ax=base, color='red')"
      ],
      "metadata": {
        "colab": {
          "base_uri": "https://localhost:8080/",
          "height": 480
        },
        "id": "S4MPLffxia2N",
        "outputId": "9165eb18-f3bc-4dcc-f119-767833f645a2"
      },
      "execution_count": 67,
      "outputs": [
        {
          "output_type": "execute_result",
          "data": {
            "text/plain": [
              "<Axes: >"
            ]
          },
          "metadata": {},
          "execution_count": 67
        },
        {
          "output_type": "display_data",
          "data": {
            "text/plain": [
              "<Figure size 640x480 with 1 Axes>"
            ],
            "image/png": "[encoded data removed]"
          },
          "metadata": {}
        }
      ]
    },
    {
      "cell_type": "code",
      "source": [
        "type(aeropuertos_mex), type(airports)"
      ],
      "metadata": {
        "colab": {
          "base_uri": "https://localhost:8080/"
        },
        "id": "tmtGFNZXi7IS",
        "outputId": "ec72ecc2-8f04-44c9-fc90-49e9a240f6df"
      },
      "execution_count": 68,
      "outputs": [
        {
          "output_type": "execute_result",
          "data": {
            "text/plain": [
              "(geopandas.geodataframe.GeoDataFrame, pandas.core.frame.DataFrame)"
            ]
          },
          "metadata": {},
          "execution_count": 68
        }
      ]
    },
    {
      "cell_type": "code",
      "source": [
        "aeropuertos_mex_5641=aeropuertos_mex.to_crs(5641)\n",
        "\n",
        "base=mexico.to_crs(5641).plot(color='white', edgecolor='black')\n",
        "aeropuertos_mex_5641.plot(ax=base, color='red')"
      ],
      "metadata": {
        "colab": {
          "base_uri": "https://localhost:8080/",
          "height": 480
        },
        "id": "VYUXhQ-JjFGh",
        "outputId": "cf1a75c6-60c0-4971-a3b8-c8ca9d10b319"
      },
      "execution_count": 69,
      "outputs": [
        {
          "output_type": "execute_result",
          "data": {
            "text/plain": [
              "<Axes: >"
            ]
          },
          "metadata": {},
          "execution_count": 69
        },
        {
          "output_type": "display_data",
          "data": {
            "text/plain": [
              "<Figure size 640x480 with 1 Axes>"
            ],
            "image/png": "[encoded data removed]"
          },
          "metadata": {}
        }
      ]
    },
    {
      "cell_type": "code",
      "source": [
        "aeropuertos_mex_5641['type'].value_counts()"
      ],
      "metadata": {
        "colab": {
          "base_uri": "https://localhost:8080/",
          "height": 335
        },
        "id": "AzKlEHsGjTRE",
        "outputId": "37c7c327-ece9-4e7e-9880-ce2c9b49c333"
      },
      "execution_count": 70,
      "outputs": [
        {
          "output_type": "execute_result",
          "data": {
            "text/plain": [
              "type\n",
              "small_airport     42209\n",
              "heliport          21845\n",
              "closed            12591\n",
              "medium_airport     4685\n",
              "seaplane_base      1229\n",
              "large_airport       484\n",
              "balloonport          57\n",
              "Name: count, dtype: int64"
            ],
            "text/html": [
              "<div>\n",
              "<style scoped>\n",
              "    .dataframe tbody tr th:only-of-type {\n",
              "        vertical-align: middle;\n",
              "    }\n",
              "\n",
              "    .dataframe tbody tr th {\n",
              "        vertical-align: top;\n",
              "    }\n",
              "\n",
              "    .dataframe thead th {\n",
              "        text-align: right;\n",
              "    }\n",
              "</style>\n",
              "<table border=\"1\" class=\"dataframe\">\n",
              "  <thead>\n",
              "    <tr style=\"text-align: right;\">\n",
              "      <th></th>\n",
              "      <th>count</th>\n",
              "    </tr>\n",
              "    <tr>\n",
              "      <th>type</th>\n",
              "      <th></th>\n",
              "    </tr>\n",
              "  </thead>\n",
              "  <tbody>\n",
              "    <tr>\n",
              "      <th>small_airport</th>\n",
              "      <td>42209</td>\n",
              "    </tr>\n",
              "    <tr>\n",
              "      <th>heliport</th>\n",
              "      <td>21845</td>\n",
              "    </tr>\n",
              "    <tr>\n",
              "      <th>closed</th>\n",
              "      <td>12591</td>\n",
              "    </tr>\n",
              "    <tr>\n",
              "      <th>medium_airport</th>\n",
              "      <td>4685</td>\n",
              "    </tr>\n",
              "    <tr>\n",
              "      <th>seaplane_base</th>\n",
              "      <td>1229</td>\n",
              "    </tr>\n",
              "    <tr>\n",
              "      <th>large_airport</th>\n",
              "      <td>484</td>\n",
              "    </tr>\n",
              "    <tr>\n",
              "      <th>balloonport</th>\n",
              "      <td>57</td>\n",
              "    </tr>\n",
              "  </tbody>\n",
              "</table>\n",
              "</div><br><label><b>dtype:</b> int64</label>"
            ]
          },
          "metadata": {},
          "execution_count": 70
        }
      ]
    },
    {
      "cell_type": "code",
      "source": [
        "if not os.path.exists(\"maps\"):\n",
        "    os.makedirs(\"maps\")\n",
        "\n",
        "aeropuertos_mex_5641.rename(columns={'type':'kind'}, inplace=True)\n",
        "aeropuertos_mex_5641.to_file(os.path.join(\"maps\",\"mexicoMaps_5641.gpkg\"), layer='airports', driver=\"GPKG\")"
      ],
      "metadata": {
        "id": "qSax1-yNl_5E"
      },
      "execution_count": 76,
      "outputs": []
    }
  ]
}